{
 "cells": [
  {
   "cell_type": "code",
   "execution_count": 1,
   "id": "a88bc99c",
   "metadata": {
    "pycharm": {
     "name": "#%%\n"
    }
   },
   "outputs": [
    {
     "data": {
      "text/plain": "[13, 3]"
     },
     "execution_count": 1,
     "metadata": {},
     "output_type": "execute_result"
    }
   ],
   "source": [
    "import random\n",
    "class Shoe:    \n",
    "    def __init__(self):\n",
    "        self.Cards = []\n",
    "        deck = []       \n",
    "        for x in range(1,14):\n",
    "            for y in range(0,8):\n",
    "                deck.append(x)\n",
    "        self.Cards = deck\n",
    "\n",
    "class Hand:\n",
    "    def __init__(self):\n",
    "        self.hand = []\n",
    "\n",
    "\n",
    "class Round:\n",
    "    def __init__(self):\n",
    "        self.S = Shoe()\n",
    "        self.Player = Hand()\n",
    "        self.Dealer = Hand()\n",
    "        self.count = 0\n",
    "\n",
    "    def shuffle(self):\n",
    "        random.shuffle(self.S.Cards)\n",
    "        random.shuffle(self.S.Cards)\n",
    "        random.shuffle(self.S.Cards)\n",
    "    \n",
    "    def newRound(self):\n",
    "        self.Player.hand.clear()\n",
    "        self.Dealer.hand.clear()\n",
    "        self.hit(\"P\")\n",
    "        self.hit(\"P\")\n",
    "        self.hit(\"D\")\n",
    "        self.hit(\"D\")\n",
    "    \n",
    "    def hit(self, user):\n",
    "        if user == \"P\":\n",
    "            card  = self.S.Cards[0]\n",
    "            if card >= 10:\n",
    "                self.count-=1\n",
    "            elif card < 7:\n",
    "                self.count+=1\n",
    "            self.S.Cards.pop(0)\n",
    "            self.Player.hand.append(card)\n",
    "        elif user == \"D\":\n",
    "            card  = self.S.Cards[0]\n",
    "            if card >= 10:\n",
    "                self.count-=1\n",
    "            elif card < 7:\n",
    "                self.count+=1\n",
    "            self.S.Cards.pop(0)\n",
    "            self.Dealer.hand.append(card)\n",
    "\n",
    "        \n",
    "\n",
    "R1 = Round()\n",
    "R1.shuffle()\n",
    "R1.newRound()\n",
    "R1.Player.hand"
   ]
  },
  {
   "cell_type": "code",
   "execution_count": 2,
   "id": "11f3a2fd",
   "metadata": {
    "pycharm": {
     "name": "#%%\n"
    }
   },
   "outputs": [
    {
     "name": "stderr",
     "output_type": "stream",
     "text": [
      "/var/folders/h1/zdr1tgnn4w531c8_vjbllp_h0000gn/T/ipykernel_1062/947469848.py:41: DeprecationWarning: ANTIALIAS is deprecated and will be removed in Pillow 10 (2023-07-01). Use Resampling.LANCZOS instead.\n",
      "  resized_image1= image1.resize((55,80), Image.ANTIALIAS)\n",
      "/var/folders/h1/zdr1tgnn4w531c8_vjbllp_h0000gn/T/ipykernel_1062/947469848.py:42: DeprecationWarning: ANTIALIAS is deprecated and will be removed in Pillow 10 (2023-07-01). Use Resampling.LANCZOS instead.\n",
      "  resized_image2= image2.resize((55,80), Image.ANTIALIAS)\n"
     ]
    },
    {
     "name": "stdout",
     "output_type": "stream",
     "text": [
      "WARNING: Appearance colors are either notsupported with this tkinter or the colors doesn't exist on this Mac.\n"
     ]
    }
   ],
   "source": [
    "import numpy as np\n",
    "from tkinter import *\n",
    "from tkinter import ttk\n",
    "from tkmacosx import Button # used to change button colour \n",
    "from PIL import ImageTk,Image\n",
    "#Import tkinter library\n",
    "\n",
    "#Create an instance of Tkinter frame or window\n",
    "win= Tk()\n",
    "\n",
    "#Set the geometry of tkinter frame\n",
    "win.geometry(\"400x300\")\n",
    "\n",
    "#establish commands\n",
    "def establishround():\n",
    "    global R1\n",
    "    btn.config(text=\"Stop Game\")\n",
    "    R1 = Round()\n",
    "    R1.shuffle()\n",
    "    R1.newRound()\n",
    "    #need code to establish round \n",
    "def quit(): #The quit function is super buggy on mac for some reason, text me about it if you are having issues\n",
    "    win.iconify()\n",
    "    win.destroy()\n",
    "    \n",
    "def deal():\n",
    "    hander = R1.Player.hand\n",
    "    print(hander)\n",
    "    \n",
    "#creating grid\n",
    "for i in range(0,4):\n",
    "    win.columnconfigure(i,weight=2)\n",
    "for i in range(0,4):\n",
    "    win.rowconfigure(i,weight=2)\n",
    "\n",
    "win.columnconfigure(1,weight = 1)\n",
    "win.columnconfigure(2,weight = 1)\n",
    "#create card Images\n",
    "image1 = Image.open(\"/Users/Charlabeast/Documents/BlackJackPython/png/2_of_clubs.png\") # put your own path here when running\n",
    "image2 = Image.open(\"/Users/Charlabeast/Documents/BlackJackPython/png/7_of_clubs.png\")\n",
    "resized_image1= image1.resize((55,80), Image.ANTIALIAS)\n",
    "resized_image2= image2.resize((55,80), Image.ANTIALIAS)\n",
    "imageres1 = ImageTk.PhotoImage(resized_image1)\n",
    "imageres2 = ImageTk.PhotoImage(resized_image2)\n",
    "#Create Cards\n",
    "card_1 = Label(win,image=imageres1)\n",
    "card_2 = Label(win,image=imageres2)\n",
    "#Create buttons\n",
    "btn=Button(win, text=\"Start Game\", command= establishround)\n",
    "exit=Button(win, text=\"Exit Game\", command= quit)\n",
    "deal=Button(win, text=\"Deal\", command= deal)\n",
    "\n",
    "#place buttons \n",
    "exit.grid(column=0,row=0,sticky = \"EW\")\n",
    "btn.grid(column=1,row=3,sticky = \"EW\")\n",
    "deal.grid(column=3,row=0,sticky = \"EW\")\n",
    "card_1.grid(column=1,row=2)\n",
    "card_2.grid(column=2,row=2)\n",
    "#key bindings\n",
    "win.bind('<Return>',lambda event:callback())\n",
    "win.bind('<Escape>',lambda event:quit())\n",
    "\n",
    "#Run window\n",
    "win.mainloop()"
   ]
  },
  {
   "cell_type": "code",
   "execution_count": 2,
   "id": "036fb0c3",
   "metadata": {
    "pycharm": {
     "name": "#%%\n"
    }
   },
   "outputs": [],
   "source": []
  },
  {
   "cell_type": "code",
   "execution_count": 2,
   "id": "7a583d23",
   "metadata": {
    "pycharm": {
     "name": "#%%\n"
    }
   },
   "outputs": [],
   "source": []
  }
 ],
 "metadata": {
  "kernelspec": {
   "display_name": "Python 3 (ipykernel)",
   "language": "python",
   "name": "python3"
  },
  "language_info": {
   "codemirror_mode": {
    "name": "ipython",
    "version": 3
   },
   "file_extension": ".py",
   "mimetype": "text/x-python",
   "name": "python",
   "nbconvert_exporter": "python",
   "pygments_lexer": "ipython3",
   "version": "3.9.1"
  }
 },
 "nbformat": 4,
 "nbformat_minor": 5
}