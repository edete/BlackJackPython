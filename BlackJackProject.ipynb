{
 "cells": [
  {
   "cell_type": "code",
   "execution_count": 1,
   "id": "a88bc99c",
   "metadata": {},
   "outputs": [
    {
     "data": {
      "text/plain": [
       "[11, 1]"
      ]
     },
     "execution_count": 1,
     "metadata": {},
     "output_type": "execute_result"
    }
   ],
   "source": [
    "import numpy as np\n",
    "import random\n",
    "class Shoe:    \n",
    "    def __init__(S):\n",
    "        S.Cards = []\n",
    "        deck = []       \n",
    "        for x in range(1,14):\n",
    "            for y in range(0,8):\n",
    "                deck.append(x)\n",
    "        S.Cards = deck\n",
    "\n",
    "class Hand:\n",
    "    def __init__(H):\n",
    "        H.hand = []\n",
    "\n",
    "\n",
    "class Round:\n",
    "    def __init__(R):\n",
    "        R.S = Shoe()\n",
    "        R.Player = Hand()\n",
    "        R.Dealer = Hand()\n",
    "        R.count = 0\n",
    "\n",
    "    def shuffle(R):\n",
    "        random.shuffle(R.S.Cards)\n",
    "        random.shuffle(R.S.Cards)\n",
    "        random.shuffle(R.S.Cards)\n",
    "    \n",
    "    def newRound(R):\n",
    "        R.Player.hand.clear()\n",
    "        R.Dealer.hand.clear()\n",
    "        R.hit(\"P\")\n",
    "        R.hit(\"P\")\n",
    "        R.hit(\"D\")\n",
    "        R.hit(\"D\")\n",
    "    \n",
    "    def hit(R, user):\n",
    "        if user == \"P\":\n",
    "            card  = R.S.Cards[0]\n",
    "            if card >= 10:\n",
    "                R.count-=1\n",
    "            elif card < 7:\n",
    "                R.count+=1\n",
    "            R.S.Cards.pop(0)\n",
    "            R.Player.hand.append(card)\n",
    "        elif user == \"D\":\n",
    "            card  = R.S.Cards[0]\n",
    "            if card >= 10:\n",
    "                R.count-=1\n",
    "            elif card < 7:\n",
    "                R.count+=1\n",
    "            R.S.Cards.pop(0)\n",
    "            R.Dealer.hand.append(card)\n",
    "\n",
    "        \n",
    "\n",
    "R1 = Round()\n",
    "R1.shuffle()\n",
    "R1.newRound()\n",
    "R1.Player.hand"
   ]
  },
  {
   "cell_type": "code",
   "execution_count": 2,
   "id": "11f3a2fd",
   "metadata": {},
   "outputs": [
    {
     "ename": "ModuleNotFoundError",
     "evalue": "No module named 'tkmacosx'",
     "output_type": "error",
     "traceback": [
      "\u001b[0;31m---------------------------------------------------------------------------\u001b[0m",
      "\u001b[0;31mModuleNotFoundError\u001b[0m                       Traceback (most recent call last)",
      "Input \u001b[0;32mIn [2]\u001b[0m, in \u001b[0;36m<cell line: 4>\u001b[0;34m()\u001b[0m\n\u001b[1;32m      2\u001b[0m \u001b[38;5;28;01mfrom\u001b[39;00m \u001b[38;5;21;01mtkinter\u001b[39;00m \u001b[38;5;28;01mimport\u001b[39;00m \u001b[38;5;241m*\u001b[39m\n\u001b[1;32m      3\u001b[0m \u001b[38;5;28;01mfrom\u001b[39;00m \u001b[38;5;21;01mtkinter\u001b[39;00m \u001b[38;5;28;01mimport\u001b[39;00m ttk\n\u001b[0;32m----> 4\u001b[0m \u001b[38;5;28;01mfrom\u001b[39;00m \u001b[38;5;21;01mtkmacosx\u001b[39;00m \u001b[38;5;28;01mimport\u001b[39;00m Button \u001b[38;5;66;03m# used to change button colour \u001b[39;00m\n\u001b[1;32m      5\u001b[0m \u001b[38;5;28;01mfrom\u001b[39;00m \u001b[38;5;21;01mPIL\u001b[39;00m \u001b[38;5;28;01mimport\u001b[39;00m ImageTk,Image\n\u001b[1;32m      6\u001b[0m \u001b[38;5;66;03m#Import tkinter library\u001b[39;00m\n\u001b[1;32m      7\u001b[0m \n\u001b[1;32m      8\u001b[0m \u001b[38;5;66;03m#Create an instance of Tkinter frame or window\u001b[39;00m\n",
      "\u001b[0;31mModuleNotFoundError\u001b[0m: No module named 'tkmacosx'"
     ]
    }
   ],
   "source": [
    "import numpy as np\n",
    "from tkinter import *\n",
    "from tkinter import ttk\n",
    "from tkmacosx import Button # used to change button colour \n",
    "from PIL import ImageTk,Image\n",
    "#Import tkinter library\n",
    "\n",
    "#Create an instance of Tkinter frame or window\n",
    "win= Tk()\n",
    "\n",
    "#Set the geometry of tkinter frame\n",
    "win.geometry(\"300x300\")\n",
    "\n",
    "#establish commands\n",
    "def establishround():\n",
    "   btn.config(text=\"Stop Game\")\n",
    "    #need code to establish round \n",
    "def quit(): #The quit function is super buggy on mac for some reason, text me about it if you are having issues\n",
    "    win.iconify()\n",
    "    win.destroy()\n",
    "def restart():\n",
    "    #blah blah reset\n",
    "    new.config(bg=\"black\")\n",
    "    \n",
    "#creating grid\n",
    "for i in range(0,3):\n",
    "    win.columnconfigure(i,weight=1)\n",
    "for i in range(0,3):\n",
    "    win.rowconfigure(i,weight=1)\n",
    "    \n",
    "#Create buttons\n",
    "btn=Button(win, text=\"Start Game\", command= establishround)\n",
    "exit=Button(win, text=\"Exit Game\", command= quit)\n",
    "new=Button(win, text=\"New Game\", command= restart)\n",
    "\n",
    "#place buttons \n",
    "exit.grid(column=0,row=0,sticky = \"EW\")\n",
    "btn.grid(column=1,row=3,sticky = \"EW\")\n",
    "new.grid(column=2,row=0,sticky = \"EW\")\n",
    "#key bindings\n",
    "win.bind('<Return>',lambda event:callback())\n",
    "win.bind('<Escape>',lambda event:quit())\n",
    "\n",
    "#Run window\n",
    "win.mainloop()"
   ]
  },
  {
   "cell_type": "code",
   "execution_count": null,
   "id": "036fb0c3",
   "metadata": {},
   "outputs": [],
   "source": []
  }
 ],
 "metadata": {
  "kernelspec": {
   "display_name": "Python 3 (ipykernel)",
   "language": "python",
   "name": "python3"
  },
  "language_info": {
   "codemirror_mode": {
    "name": "ipython",
    "version": 3
   },
   "file_extension": ".py",
   "mimetype": "text/x-python",
   "name": "python",
   "nbconvert_exporter": "python",
   "pygments_lexer": "ipython3",
   "version": "3.9.1"
  }
 },
 "nbformat": 4,
 "nbformat_minor": 5
}
