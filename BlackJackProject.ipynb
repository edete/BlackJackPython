{
 "cells": [
  {
   "cell_type": "code",
   "execution_count": 2,
   "id": "11f3a2fd",
   "metadata": {},
   "outputs": [
    {
     "ename": "ModuleNotFoundError",
     "evalue": "No module named 'NumPy'",
     "output_type": "error",
     "traceback": [
      "\u001b[0;31m---------------------------------------------------------------------------\u001b[0m",
      "\u001b[0;31mModuleNotFoundError\u001b[0m                       Traceback (most recent call last)",
      "Input \u001b[0;32mIn [2]\u001b[0m, in \u001b[0;36m<cell line: 1>\u001b[0;34m()\u001b[0m\n\u001b[0;32m----> 1\u001b[0m \u001b[38;5;28;01mimport\u001b[39;00m \u001b[38;5;21;01mNumPy\u001b[39;00m \u001b[38;5;28;01mas\u001b[39;00m \u001b[38;5;21;01mnp\u001b[39;00m\n\u001b[1;32m      2\u001b[0m \u001b[38;5;28;01mfrom\u001b[39;00m \u001b[38;5;21;01mtkinter\u001b[39;00m \u001b[38;5;28;01mimport\u001b[39;00m \u001b[38;5;241m*\u001b[39m\n\u001b[1;32m      3\u001b[0m \u001b[38;5;66;03m#Import tkinter library\u001b[39;00m\n",
      "\u001b[0;31mModuleNotFoundError\u001b[0m: No module named 'NumPy'"
     ]
    }
   ],
   "source": [
    "import NumPy as np\n",
    "from tkinter import *\n",
    "#Import tkinter library\n",
    "from tkinter import *\n",
    "#Create an instance of Tkinter frame or window\n",
    "win= Tk()\n",
    "#Set the geometry of tkinter frame\n",
    "win.geometry(\"750x750\")\n",
    "def callback():\n",
    "   Label(win, text=\"Hello World!\", font=('Century 20 bold')).pack(pady=4)\n",
    "\n",
    "#Create a Label and a Button widget\n",
    "btn=Button(win, text=\"Press Enter\", command= callback)\n",
    "btn.pack(ipadx=10)\n",
    "win.bind('<Return>',lambda event:callback())\n",
    "win.mainloop()"
   ]
  },
  {
   "cell_type": "code",
   "execution_count": null,
   "id": "ca6f6f2b",
   "metadata": {},
   "outputs": [],
   "source": []
  },
  {
   "cell_type": "code",
   "execution_count": null,
   "id": "a88bc99c",
   "metadata": {},
   "outputs": [],
   "source": [
    "int win = 0;\n",
    "string Player = \"P\";\n",
    "string Dealer = \"D\";\n",
    "string action = \"\";\n",
    "Round R1;\n",
    "R1.count=0;\n",
    "R1.shuffle();\n",
    "R1.shuffle();\n",
    "R1.shuffle();\n",
    "\n",
    "while(R1.s.Cards.size() != 0){\n",
    "        R1.newRound();\n",
    "        win = R1.check();\n",
    "\n",
    "        while(win == 0) {\n",
    "            cout << \"Player Hand: \";\n",
    "            R1.getHand(\"P\");\n",
    "\n",
    "            cout << \"Dealer Hand: \";\n",
    "            R1.getDHand();\n",
    "\n",
    "            cin>>action;\n",
    "\n",
    "            if(action == \"hit\") {\n",
    "                R1.hit(Player);\n",
    "                win = R1.check();\n",
    "                }\n",
    "            else if(action == \"stand\"){\n",
    "                R1.playerStand();\n",
    "                cout << \"Player Hand: \";\n",
    "                R1.getHand(\"P\");\n",
    "                cout << \"Dealer Hand: \";\n",
    "                R1.getHand(\"D\");\n",
    "                win = R1.win();\n",
    "                break;\n",
    "                }\n",
    "            else if(action == \"count\") {\n",
    "                R1.getCount();\n",
    "            }\n",
    "            else if(action == \"break\"){\n",
    "                R1.s.Cards.clear();\n",
    "                break;\n",
    "                }\n",
    "\n",
    "        }\n",
    "    }"
   ]
  }
 ],
 "metadata": {
  "kernelspec": {
   "display_name": "Python 3 (ipykernel)",
   "language": "python",
   "name": "python3"
  },
  "language_info": {
   "codemirror_mode": {
    "name": "ipython",
    "version": 3
   },
   "file_extension": ".py",
   "mimetype": "text/x-python",
   "name": "python",
   "nbconvert_exporter": "python",
   "pygments_lexer": "ipython3",
   "version": "3.9.1"
  }
 },
 "nbformat": 4,
 "nbformat_minor": 5
}
